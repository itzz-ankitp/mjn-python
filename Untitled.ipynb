{
 "cells": [
  {
   "cell_type": "code",
   "execution_count": null,
   "id": "3fba73bd-9688-4172-bbee-08c8c3c0428f",
   "metadata": {},
   "outputs": [],
   "source": [
    "#Lab 1"
   ]
  },
  {
   "cell_type": "code",
   "execution_count": 8,
   "id": "b76123a6-b9c1-494c-b074-0a1b595b16b2",
   "metadata": {},
   "outputs": [
    {
     "data": {
      "text/latex": [
       "$\\displaystyle \\left(\\frac{\\partial}{\\partial \\mathbf{{x}_{N}}} \\left(\\mathbf{{x}_{N}}^{2} \\mathbf{{y}_{N}} + 2 \\mathbf{{x}_{N}} \\mathbf{{z}_{N}} - 4\\right)\\right)\\mathbf{\\hat{i}_{N}} + \\left(\\frac{\\partial}{\\partial \\mathbf{{y}_{N}}} \\left(\\mathbf{{x}_{N}}^{2} \\mathbf{{y}_{N}} + 2 \\mathbf{{x}_{N}} \\mathbf{{z}_{N}} - 4\\right)\\right)\\mathbf{\\hat{j}_{N}} + \\left(\\frac{\\partial}{\\partial \\mathbf{{z}_{N}}} \\left(\\mathbf{{x}_{N}}^{2} \\mathbf{{y}_{N}} + 2 \\mathbf{{x}_{N}} \\mathbf{{z}_{N}} - 4\\right)\\right)\\mathbf{\\hat{k}_{N}}$"
      ],
      "text/plain": [
       "(Derivative(N.x**2*N.y + 2*N.x*N.z - 4, N.x))*N.i + (Derivative(N.x**2*N.y + 2*N.x*N.z - 4, N.y))*N.j + (Derivative(N.x**2*N.y + 2*N.x*N.z - 4, N.z))*N.k"
      ]
     },
     "metadata": {},
     "output_type": "display_data"
    },
    {
     "name": "stdout",
     "output_type": "stream",
     "text": [
      "\n",
      " Gradient of N.x**2*N.y + 2*N.x*N.z - 4is \n",
      "\n"
     ]
    },
    {
     "data": {
      "text/latex": [
       "$\\displaystyle \\left(2 \\mathbf{{x}_{N}} \\mathbf{{y}_{N}} + 2 \\mathbf{{z}_{N}}\\right)\\mathbf{\\hat{i}_{N}} + \\left(\\mathbf{{x}_{N}}^{2}\\right)\\mathbf{\\hat{j}_{N}} + \\left(2 \\mathbf{{x}_{N}}\\right)\\mathbf{\\hat{k}_{N}}$"
      ],
      "text/plain": [
       "(2*N.x*N.y + 2*N.z)*N.i + N.x**2*N.j + 2*N.x*N.k"
      ]
     },
     "metadata": {},
     "output_type": "display_data"
    }
   ],
   "source": [
    "from sympy.vector import *\n",
    "from sympy import symbols\n",
    "N=CoordSys3D('N')\n",
    "x,y,z=symbols('x y z')\n",
    "A=N.x**2*N.y+2*N.x*N.z-4\n",
    "delop=Del()\n",
    "display(delop(A))\n",
    "gradA=gradient(A)\n",
    "print(f\"\\n Gradient of {A}is \\n\")\n",
    "display(gradA)"
   ]
  },
  {
   "cell_type": "code",
   "execution_count": null,
   "id": "07f68985-78c2-4702-8325-fb7dc066df41",
   "metadata": {},
   "outputs": [],
   "source": []
  }
 ],
 "metadata": {
  "kernelspec": {
   "display_name": "Python 3 (ipykernel)",
   "language": "python",
   "name": "python3"
  },
  "language_info": {
   "codemirror_mode": {
    "name": "ipython",
    "version": 3
   },
   "file_extension": ".py",
   "mimetype": "text/x-python",
   "name": "python",
   "nbconvert_exporter": "python",
   "pygments_lexer": "ipython3",
   "version": "3.13.2"
  }
 },
 "nbformat": 4,
 "nbformat_minor": 5
}
