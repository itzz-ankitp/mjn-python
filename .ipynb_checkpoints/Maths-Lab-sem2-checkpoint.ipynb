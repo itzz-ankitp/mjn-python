{
 "cells": [
  {
   "cell_type": "code",
   "execution_count": null,
   "id": "1b6eb1bc-eaba-4051-8b9f-0f381e3eeada",
   "metadata": {},
   "outputs": [],
   "source": [
    "#lab 1"
   ]
  },
  {
   "cell_type": "code",
   "execution_count": 4,
   "id": "b43c2ce5-b01d-4df1-ada0-bc93b2a1c999",
   "metadata": {},
   "outputs": [
    {
     "data": {
      "text/latex": [
       "$\\displaystyle \\left(\\frac{\\partial}{\\partial \\mathbf{{x}_{N}}} \\left(\\mathbf{{x}_{N}}^{2} \\mathbf{{y}_{N}} + 2 \\mathbf{{x}_{N}} \\mathbf{{z}_{N}} - 4\\right)\\right)\\mathbf{\\hat{i}_{N}} + \\left(\\frac{\\partial}{\\partial \\mathbf{{y}_{N}}} \\left(\\mathbf{{x}_{N}}^{2} \\mathbf{{y}_{N}} + 2 \\mathbf{{x}_{N}} \\mathbf{{z}_{N}} - 4\\right)\\right)\\mathbf{\\hat{j}_{N}} + \\left(\\frac{\\partial}{\\partial \\mathbf{{z}_{N}}} \\left(\\mathbf{{x}_{N}}^{2} \\mathbf{{y}_{N}} + 2 \\mathbf{{x}_{N}} \\mathbf{{z}_{N}} - 4\\right)\\right)\\mathbf{\\hat{k}_{N}}$"
      ],
      "text/plain": [
       "(Derivative(N.x**2*N.y + 2*N.x*N.z - 4, N.x))*N.i + (Derivative(N.x**2*N.y + 2*N.x*N.z - 4, N.y))*N.j + (Derivative(N.x**2*N.y + 2*N.x*N.z - 4, N.z))*N.k"
      ]
     },
     "metadata": {},
     "output_type": "display_data"
    },
    {
     "name": "stdout",
     "output_type": "stream",
     "text": [
      "\n",
      " Gradient of N.x**2*N.y + 2*N.x*N.z - 4 is \n",
      "\n"
     ]
    },
    {
     "data": {
      "text/latex": [
       "$\\displaystyle \\left(2 \\mathbf{{x}_{N}} \\mathbf{{y}_{N}} + 2 \\mathbf{{z}_{N}}\\right)\\mathbf{\\hat{i}_{N}} + \\left(\\mathbf{{x}_{N}}^{2}\\right)\\mathbf{\\hat{j}_{N}} + \\left(2 \\mathbf{{x}_{N}}\\right)\\mathbf{\\hat{k}_{N}}$"
      ],
      "text/plain": [
       "(2*N.x*N.y + 2*N.z)*N.i + N.x**2*N.j + 2*N.x*N.k"
      ]
     },
     "metadata": {},
     "output_type": "display_data"
    }
   ],
   "source": [
    "from sympy.vector import *\n",
    "from sympy import symbols\n",
    "N=CoordSys3D('N')\n",
    "x,y,z=symbols('x y x')\n",
    "A=N.x**2*N.y+2*N.x*N.z-4\n",
    "delop=Del()\n",
    "display(delop(A))\n",
    "gradA=gradient(A)\n",
    "print(f\"\\n Gradient of {A} is \\n\")\n",
    "display(gradA)"
   ]
  },
  {
   "cell_type": "code",
   "execution_count": 5,
   "id": "7d23f69d-5be6-452c-a024-44e74d80f37b",
   "metadata": {},
   "outputs": [
    {
     "data": {
      "text/latex": [
       "$\\displaystyle \\frac{\\partial}{\\partial \\mathbf{{z}_{N}}} \\mathbf{{x}_{N}} \\mathbf{{y}_{N}} \\mathbf{{z}_{N}}^{2} + \\frac{\\partial}{\\partial \\mathbf{{y}_{N}}} \\mathbf{{x}_{N}} \\mathbf{{y}_{N}}^{2} \\mathbf{{z}_{N}} + \\frac{\\partial}{\\partial \\mathbf{{x}_{N}}} \\mathbf{{x}_{N}}^{2} \\mathbf{{y}_{N}} \\mathbf{{z}_{N}}$"
      ],
      "text/plain": [
       "Derivative(N.x*N.y*N.z**2, N.z) + Derivative(N.x*N.y**2*N.z, N.y) + Derivative(N.x**2*N.y*N.z, N.x)"
      ]
     },
     "metadata": {},
     "output_type": "display_data"
    },
    {
     "name": "stdout",
     "output_type": "stream",
     "text": [
      "\n",
      " Divergence of N.x**2*N.y*N.z*N.i + N.x*N.y**2*N.z*N.j + N.x*N.y*N.z**2*N.k is \n",
      "\n"
     ]
    },
    {
     "data": {
      "text/latex": [
       "$\\displaystyle 6 \\mathbf{{x}_{N}} \\mathbf{{y}_{N}} \\mathbf{{z}_{N}}$"
      ],
      "text/plain": [
       "6*N.x*N.y*N.z"
      ]
     },
     "metadata": {},
     "output_type": "display_data"
    }
   ],
   "source": [
    "from sympy.vector import *\n",
    "from sympy import symbols\n",
    "N=CoordSys3D('N')\n",
    "x,y,z=symbols('x y z')\n",
    "A=N.x**2*N.y*N.z*N.i+N.y**2*N.z*N.x*N.j+N.z**2*N.x*N.y*N.k\n",
    "delop=Del()\n",
    "divA=delop.dot(A)\n",
    "display(divA)\n",
    "print(f\"\\n Divergence of {A} is \\n\")\n",
    "display(divergence(A))"
   ]
  },
  {
   "cell_type": "code",
   "execution_count": 6,
   "id": "cde940da-cab6-4b43-bb77-204c281e5cc0",
   "metadata": {},
   "outputs": [
    {
     "data": {
      "text/latex": [
       "$\\displaystyle \\left(\\frac{\\partial}{\\partial \\mathbf{{y}_{N}}} \\mathbf{{x}_{N}} \\mathbf{{y}_{N}} \\mathbf{{z}_{N}}^{2} - \\frac{\\partial}{\\partial \\mathbf{{z}_{N}}} \\mathbf{{x}_{N}} \\mathbf{{y}_{N}}^{2} \\mathbf{{z}_{N}}\\right)\\mathbf{\\hat{i}_{N}} + \\left(- \\frac{\\partial}{\\partial \\mathbf{{x}_{N}}} \\mathbf{{x}_{N}} \\mathbf{{y}_{N}} \\mathbf{{z}_{N}}^{2} + \\frac{\\partial}{\\partial \\mathbf{{z}_{N}}} \\mathbf{{x}_{N}}^{2} \\mathbf{{y}_{N}} \\mathbf{{z}_{N}}\\right)\\mathbf{\\hat{j}_{N}} + \\left(\\frac{\\partial}{\\partial \\mathbf{{x}_{N}}} \\mathbf{{x}_{N}} \\mathbf{{y}_{N}}^{2} \\mathbf{{z}_{N}} - \\frac{\\partial}{\\partial \\mathbf{{y}_{N}}} \\mathbf{{x}_{N}}^{2} \\mathbf{{y}_{N}} \\mathbf{{z}_{N}}\\right)\\mathbf{\\hat{k}_{N}}$"
      ],
      "text/plain": [
       "(Derivative(N.x*N.y*N.z**2, N.y) - Derivative(N.x*N.y**2*N.z, N.z))*N.i + (-Derivative(N.x*N.y*N.z**2, N.x) + Derivative(N.x**2*N.y*N.z, N.z))*N.j + (Derivative(N.x*N.y**2*N.z, N.x) - Derivative(N.x**2*N.y*N.z, N.y))*N.k"
      ]
     },
     "metadata": {},
     "output_type": "display_data"
    },
    {
     "name": "stdout",
     "output_type": "stream",
     "text": [
      "\n",
      " Curl of N.x**2*N.y*N.z*N.i + N.x*N.y**2*N.z*N.j + N.x*N.y*N.z**2*N.k is \n",
      "\n"
     ]
    },
    {
     "data": {
      "text/latex": [
       "$\\displaystyle \\left(- \\mathbf{{x}_{N}} \\mathbf{{y}_{N}}^{2} + \\mathbf{{x}_{N}} \\mathbf{{z}_{N}}^{2}\\right)\\mathbf{\\hat{i}_{N}} + \\left(\\mathbf{{x}_{N}}^{2} \\mathbf{{y}_{N}} - \\mathbf{{y}_{N}} \\mathbf{{z}_{N}}^{2}\\right)\\mathbf{\\hat{j}_{N}} + \\left(- \\mathbf{{x}_{N}}^{2} \\mathbf{{z}_{N}} + \\mathbf{{y}_{N}}^{2} \\mathbf{{z}_{N}}\\right)\\mathbf{\\hat{k}_{N}}$"
      ],
      "text/plain": [
       "(-N.x*N.y**2 + N.x*N.z**2)*N.i + (N.x**2*N.y - N.y*N.z**2)*N.j + (-N.x**2*N.z + N.y**2*N.z)*N.k"
      ]
     },
     "metadata": {},
     "output_type": "display_data"
    }
   ],
   "source": [
    "from sympy.vector import *\n",
    "from sympy import symbols\n",
    "N=CoordSys3D('N')\n",
    "x,y,z=symbols('x y z')\n",
    "A=N.x**2*N.y*N.z*N.i+N.y**2*N.z*N.x*N.j+N.z**2*N.x*N.y*N.k\n",
    "delop=Del()\n",
    "curlA=delop.cross(A)\n",
    "display(curlA)\n",
    "print(f\"\\n Curl of {A} is \\n\")\n",
    "display(curl(A))"
   ]
  },
  {
   "cell_type": "code",
   "execution_count": 7,
   "id": "7b6276cb-f15c-4a60-8490-1d7692e6788a",
   "metadata": {},
   "outputs": [
    {
     "name": "stdout",
     "output_type": "stream",
     "text": [
      "I= -1\n"
     ]
    }
   ],
   "source": [
    "# Greens Theorem\n",
    "from sympy import *\n",
    "var('x,y')\n",
    "p=x+2*y\n",
    "q=x-2*y\n",
    "f=diff(q,x)-diff(p,y)\n",
    "soln=integrate (f,[x,0,1],[y,0,1])\n",
    "print(\"I=\",soln)"
   ]
  },
  {
   "cell_type": "code",
   "execution_count": 8,
   "id": "2e37479f-d695-467e-8a76-37b975633389",
   "metadata": {},
   "outputs": [
    {
     "name": "stdout",
     "output_type": "stream",
     "text": [
      "I= -1/20\n"
     ]
    }
   ],
   "source": [
    "from sympy import *\n",
    "var('x,y')\n",
    "p=x*y+y**2\n",
    "q=x**2\n",
    "f=diff(q,x)-diff(p,y)\n",
    "soln=integrate (f,[y,x**2,x],[x,0,1])\n",
    "print(\"I=\",soln)"
   ]
  },
  {
   "cell_type": "code",
   "execution_count": null,
   "id": "96d5e6dd-30cb-4662-b41d-ffe3e7ff3f6c",
   "metadata": {},
   "outputs": [],
   "source": [
    "#LAB 2"
   ]
  },
  {
   "cell_type": "code",
   "execution_count": 1,
   "id": "fc78669f-397c-499d-9f12-b38afce4c448",
   "metadata": {},
   "outputs": [
    {
     "name": "stdout",
     "output_type": "stream",
     "text": [
      "Rank of the matrix 2\n",
      "Null space of the matrix [[-0.40824829]\n",
      " [ 0.81649658]\n",
      " [-0.40824829]]\n",
      "Null space of the matrix 1\n",
      "Rank Nullity theorem holds\n"
     ]
    }
   ],
   "source": [
    "import numpy as np\n",
    "from scipy.linalg import null_space\n",
    "A=np.array([[1,2,3],[4,5,6],[7,8,9]])\n",
    "rank=np.linalg.matrix_rank(A)\n",
    "print(\"Rank of the matrix\",rank)\n",
    "ns=null_space(A)\n",
    "print(\"Null space of the matrix\",ns)\n",
    "nullity=ns.shape[1]\n",
    "print(\"Null space of the matrix\",nullity)\n",
    "if rank+nullity==A.shape[1]:\n",
    "    print(\"Rank Nullity theorem holds\")\n",
    "else:\n",
    "    print(\"Rank Nullity theorem does not hold\")"
   ]
  },
  {
   "cell_type": "code",
   "execution_count": 2,
   "id": "56ec50b0-b31c-4900-9fa7-d97572d765c0",
   "metadata": {},
   "outputs": [
    {
     "name": "stdout",
     "output_type": "stream",
     "text": [
      "Dimension of row space 3\n",
      "Dimension of column space 3\n"
     ]
    }
   ],
   "source": [
    "import numpy as np\n",
    "V=np.array([[1,2,3],[2,3,1],[3,1,2]])\n",
    "basis=np.linalg.matrix_rank(V)\n",
    "dimension=V.shape[0]\n",
    "print(\"Dimension of row space\",basis)\n",
    "print(\"Dimension of column space\",basis)"
   ]
  },
  {
   "cell_type": "code",
   "execution_count": 8,
   "id": "c3f9aaf2-9c60-42e1-9da1-a61698c4067b",
   "metadata": {},
   "outputs": [
    {
     "data": {
      "text/plain": [
       "'REF of given matrix:'"
      ]
     },
     "metadata": {},
     "output_type": "display_data"
    },
    {
     "data": {
      "text/latex": [
       "$\\displaystyle \\left[\\begin{matrix}1 & -1 & 1 & 1\\\\0 & -3 & 0 & 0\\\\0 & 0 & 2 & 0\\\\0 & 0 & 0 & 0\\end{matrix}\\right]$"
      ],
      "text/plain": [
       "Matrix([\n",
       "[1, -1, 1, 1],\n",
       "[0, -3, 0, 0],\n",
       "[0,  0, 2, 0],\n",
       "[0,  0, 0, 0]])"
      ]
     },
     "metadata": {},
     "output_type": "display_data"
    },
    {
     "name": "stdout",
     "output_type": "stream",
     "text": [
      "\n",
      " Basis are non-zero rows of A:\n"
     ]
    },
    {
     "data": {
      "text/latex": [
       "$\\displaystyle \\left[\\begin{matrix}1 & -1 & 1 & 1\\\\0 & -3 & 0 & 0\\\\0 & 0 & 2 & 0\\end{matrix}\\right]$"
      ],
      "text/plain": [
       "Matrix([\n",
       "[1, -1, 1, 1],\n",
       "[0, -3, 0, 0],\n",
       "[0,  0, 2, 0]])"
      ]
     },
     "metadata": {},
     "output_type": "display_data"
    }
   ],
   "source": [
    "from numpy import *\n",
    "import sympy as sp\n",
    "A=[[1,-1,1,1],[2,-5,2,2],[3,-3,5,3],[4,-4,4,4]]\n",
    "AB=array(A)\n",
    "S=shape(A)\n",
    "n=len(A)\n",
    "for i in range (n):\n",
    "    if AB[i,i]==0:\n",
    "        ab=copy(AB)\n",
    "        for k in range (i+1,S[0]):\n",
    "            if ab[k,i]!=0:\n",
    "                ab[i,:]=AB[k,:]\n",
    "                ab[k,:]=AB[i,:]\n",
    "                AB=copy(ab)\n",
    "    for j in range (i+1,n):\n",
    "        Fact=AB[j,i]/AB[i,i]\n",
    "        for k in range (i,n):\n",
    "            AB[j,k]=AB[j,k]-Fact*AB[i,k]\n",
    "display(\"REF of given matrix:\",sp.Matrix(AB))\n",
    "temp={(0,0,0,0)}\n",
    "result=[]\n",
    "for idx, row in enumerate(map(tuple,AB)):\n",
    "    if row not in temp:\n",
    "        result.append(idx)\n",
    "print(\"\\n Basis are non-zero rows of A:\")\n",
    "display(sp.Matrix(AB[result]))"
   ]
  },
  {
   "cell_type": "code",
   "execution_count": null,
   "id": "d968b8ea-4cac-41d6-a6ec-ab1e3ee163af",
   "metadata": {},
   "outputs": [],
   "source": [
    "#LAB 3"
   ]
  },
  {
   "cell_type": "code",
   "execution_count": 12,
   "id": "80398ba0-6887-49b3-b220-652534b496b8",
   "metadata": {},
   "outputs": [
    {
     "name": "stdout",
     "output_type": "stream",
     "text": [
      "The laplace transform of f is 2/(s**2 + 4)\n",
      "<bound method Expr.expand of 2/(s**2 + 4)>\n"
     ]
    },
    {
     "data": {
      "image/png": "[encoded data removed]",
      "text/plain": [
       "<Figure size 500x350 with 2 Axes>"
      ]
     },
     "metadata": {},
     "output_type": "display_data"
    }
   ],
   "source": [
    "from sympy import *\n",
    "import matplotlib.pyplot as plt\n",
    "s,t=symbols('s t',positive=True)\n",
    "f=sin(2*t)\n",
    "F=laplace_transform(f,t,s)\n",
    "print(\"The laplace transform of f is\",F[0])\n",
    "print(F[0].expand)\n",
    "p1=plot(f,show=False,xlim=(-10,10),line_color='blue',legend=True)\n",
    "p2=plot(F[0],show=False,xlim=(-10,10),line_color='red',legend=True)\n",
    "plotgrid=plotting.PlotGrid(2,1,p1,p2,show=False,size=(5.,3.5))\n",
    "plotgrid.show()"
   ]
  },
  {
   "cell_type": "code",
   "execution_count": 15,
   "id": "6d23a507-84ff-430e-b2e9-c92f6a6faa3a",
   "metadata": {},
   "outputs": [
    {
     "name": "stdout",
     "output_type": "stream",
     "text": [
      "The laplace transform of f is 1/(s - 2)\n",
      "<bound method Expr.expand of 1/(s - 2)>\n"
     ]
    },
    {
     "data": {
      "image/png": "[encoded data removed]",
      "text/plain": [
       "<Figure size 500x350 with 2 Axes>"
      ]
     },
     "metadata": {},
     "output_type": "display_data"
    }
   ],
   "source": [
    "from sympy import *\n",
    "import matplotlib.pyplot as plt\n",
    "s,t=symbols('s t',positive=True)\n",
    "f=exp(2*t)\n",
    "F=laplace_transform(f,t,s)\n",
    "print(\"The laplace transform of f is\",F[0])\n",
    "print(F[0].expand)\n",
    "p1=plot(f,show=False,xlim=(-10,10),line_color='blue',legend=True)\n",
    "p2=plot(F[0],show=False,xlim=(-10,10),line_color='red',legend=True)\n",
    "plotgrid=plotting.PlotGrid(2,1,p1,p2,show=False,size=(5.,3.5))\n",
    "plotgrid.show()"
   ]
  },
  {
   "cell_type": "code",
   "execution_count": null,
   "id": "be97d104-ad55-47a6-9086-657b7cdc9535",
   "metadata": {},
   "outputs": [],
   "source": [
    "#LAB 4"
   ]
  },
  {
   "cell_type": "code",
   "execution_count": 16,
   "id": "f3e463f5-c5ee-4932-9f2a-25c0f5975d60",
   "metadata": {},
   "outputs": [
    {
     "data": {
      "text/latex": [
       "$\\displaystyle \\begin{cases} \\frac{1}{a \\left(1 + \\frac{s^{2}}{a^{2}}\\right)} & \\text{for}\\: \\left|{\\arg{\\left(s \\right)}}\\right| < \\frac{\\pi}{2} \\\\\\int\\limits_{0}^{\\infty} e^{- s t} \\sin{\\left(a t \\right)}\\, dt & \\text{otherwise} \\end{cases}$"
      ],
      "text/plain": [
       "⎧        1                           π\n",
       "⎪    ──────────       for │arg(s)│ < ─\n",
       "⎪      ⎛     2⎞                      2\n",
       "⎪      ⎜    s ⎟                       \n",
       "⎪    a⋅⎜1 + ──⎟                       \n",
       "⎪      ⎜     2⎟                       \n",
       "⎪      ⎝    a ⎠                       \n",
       "⎨                                     \n",
       "⎪∞                                    \n",
       "⎪⌠                                    \n",
       "⎪⎮  -s⋅t                              \n",
       "⎪⎮ ℯ    ⋅sin(a⋅t) dt     otherwise    \n",
       "⎪⌡                                    \n",
       "⎪0                                    \n",
       "⎩                                     "
      ]
     },
     "execution_count": 16,
     "metadata": {},
     "output_type": "execute_result"
    }
   ],
   "source": [
    "from sympy import *\n",
    "t,s=symbols('t s')\n",
    "a=symbols('a',real=True,positive=True)\n",
    "init_printing()\n",
    "f=sin(a*t)\n",
    "integrate(f*exp(-s*t),(t,0,oo))"
   ]
  },
  {
   "cell_type": "code",
   "execution_count": 18,
   "id": "e67e16de-3262-4af9-9b4f-65993a78f319",
   "metadata": {},
   "outputs": [
    {
     "name": "stdout",
     "output_type": "stream",
     "text": [
      "The Laplace transform of sin(a*t) is\n"
     ]
    },
    {
     "data": {
      "image/png": "[encoded data removed]",
      "text/latex": [
       "$\\displaystyle \\frac{a}{a^{2} + s^{2}}$"
      ],
      "text/plain": [
       "   a   \n",
       "───────\n",
       " 2    2\n",
       "a  + s "
      ]
     },
     "metadata": {},
     "output_type": "display_data"
    }
   ],
   "source": [
    "from sympy import *\n",
    "t,s=symbols('t s')\n",
    "a=Symbol('a',real=True,positive=True)\n",
    "init_printing()\n",
    "f1=sin(a*t)\n",
    "print('The Laplace transform of', f1 ,'is')\n",
    "display(laplace_transform(f1,t,s,noconds=True))"
   ]
  },
  {
   "cell_type": "code",
   "execution_count": 30,
   "id": "d864e22a-7548-45d7-acf0-c3115ad1d490",
   "metadata": {},
   "outputs": [
    {
     "name": "stdout",
     "output_type": "stream",
     "text": [
      " 3\n",
      "t \n"
     ]
    }
   ],
   "source": [
    "import sympy as sp\n",
    "t=sp.Symbol('t',positive=True)\n",
    "s=sp.Symbol('s')\n",
    "a=sp.Symbol('a',real=True)\n",
    "f1=(6/(s**4))\n",
    "ilt=sp.inverse_laplace_transform(f1,s,t)\n",
    "pprint(ilt)"
   ]
  },
  {
   "cell_type": "code",
   "execution_count": null,
   "id": "3978f7c5-4f30-480f-917c-3b05a6546094",
   "metadata": {},
   "outputs": [],
   "source": []
  }
 ],
 "metadata": {
  "kernelspec": {
   "display_name": "Python 3 (ipykernel)",
   "language": "python",
   "name": "python3"
  },
  "language_info": {
   "codemirror_mode": {
    "name": "ipython",
    "version": 3
   },
   "file_extension": ".py",
   "mimetype": "text/x-python",
   "name": "python",
   "nbconvert_exporter": "python",
   "pygments_lexer": "ipython3",
   "version": "3.13.2"
  }
 },
 "nbformat": 4,
 "nbformat_minor": 5
}
