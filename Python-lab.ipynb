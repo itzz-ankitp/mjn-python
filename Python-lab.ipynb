{
 "cells": [
  {
   "cell_type": "code",
   "execution_count": null,
   "id": "b38781df-39bd-4e33-a901-cb898ebb8e81",
   "metadata": {},
   "outputs": [],
   "source": [
    "#1A"
   ]
  },
  {
   "cell_type": "code",
   "execution_count": 1,
   "id": "78c1d37a-85bb-4b6b-bcc1-bb9aff78ea7b",
   "metadata": {},
   "outputs": [
    {
     "name": "stdin",
     "output_type": "stream",
     "text": [
      "Enter USN: 11\n",
      "Enter name: aa\n"
     ]
    },
    {
     "name": "stdout",
     "output_type": "stream",
     "text": [
      "ENter marks of three subjects:\n"
     ]
    },
    {
     "name": "stdin",
     "output_type": "stream",
     "text": [
      "ENter the marks: 76\n",
      "ENter the marks: 77\n",
      "ENter the marks: 78\n"
     ]
    },
    {
     "name": "stdout",
     "output_type": "stream",
     "text": [
      "[76, 77, 78]\n",
      "11 aa 231 77.0\n"
     ]
    }
   ],
   "source": [
    "USN=input(\"Enter USN:\")\n",
    "name=input(\"Enter name:\")\n",
    "print(\"ENter marks of three subjects:\")\n",
    "marks=[]\n",
    "for i in range(3):\n",
    "    m=int(input(\"ENter the marks:\"))\n",
    "    marks.append((m))\n",
    "print(marks)\n",
    "total=sum(marks)\n",
    "per=int(100*total)/300\n",
    "print(USN,name,total,per)"
   ]
  },
  {
   "cell_type": "code",
   "execution_count": null,
   "id": "d45232d7-30f2-4cc5-a2dd-a66a40294d60",
   "metadata": {},
   "outputs": [],
   "source": [
    "#1B"
   ]
  },
  {
   "cell_type": "code",
   "execution_count": 2,
   "id": "7626c0b8-5e22-456c-88f0-64ea8cdb2672",
   "metadata": {},
   "outputs": [
    {
     "name": "stdin",
     "output_type": "stream",
     "text": [
      "Enter your name Ankit\n",
      "Enter your year of birth 2006\n"
     ]
    },
    {
     "name": "stdout",
     "output_type": "stream",
     "text": [
      "Ankit you are not a senior citizen\n"
     ]
    }
   ],
   "source": [
    "import datetime\n",
    "name=input(\"Enter your name\")\n",
    "year_of_birth=int(input(\"Enter your year of birth\"))\n",
    "current_year=datetime.datetime.now().year\n",
    "age=current_year-year_of_birth\n",
    "if(age>=60):\n",
    "    print(f\"{name} you are a senior citizen\")\n",
    "else:\n",
    "    print(f\"{name} you are not a senior citizen\")"
   ]
  },
  {
   "cell_type": "code",
   "execution_count": null,
   "id": "c0cb7456-46a0-4d84-b8c2-a9b2b7b16481",
   "metadata": {},
   "outputs": [],
   "source": [
    "#2A"
   ]
  },
  {
   "cell_type": "code",
   "execution_count": 5,
   "id": "948c88a9-ced8-40e4-836b-b7efc111b65d",
   "metadata": {},
   "outputs": [
    {
     "name": "stdin",
     "output_type": "stream",
     "text": [
      "enter the number: 5\n"
     ]
    },
    {
     "name": "stdout",
     "output_type": "stream",
     "text": [
      "0 1 1 2 3 "
     ]
    }
   ],
   "source": [
    "def fibonacci_numbers(num):\n",
    "    if num == 0:\n",
    "        return 0\n",
    "    elif num == 1:\n",
    "        return 1\n",
    "    else:\n",
    "        return fibonacci_numbers(num-2)+fibonacci_numbers(num-1)  \n",
    "n =int(input('enter the number:'))\n",
    "for i in range(0, n):\n",
    "    print(fibonacci_numbers(i), end=\" \")"
   ]
  },
  {
   "cell_type": "code",
   "execution_count": null,
   "id": "674efb63-ccb7-4331-bb64-acf38931e9b1",
   "metadata": {},
   "outputs": [],
   "source": [
    "#2B"
   ]
  },
  {
   "cell_type": "code",
   "execution_count": 6,
   "id": "d36e5cf0-e169-4efc-a4bd-a6836d7d66ce",
   "metadata": {},
   "outputs": [
    {
     "name": "stdin",
     "output_type": "stream",
     "text": [
      "enter the number 5\n",
      "enter the r value: 2\n"
     ]
    },
    {
     "name": "stdout",
     "output_type": "stream",
     "text": [
      "The Factorial of a number is : 120\n",
      "The binomial coefficient is: 10.0\n"
     ]
    }
   ],
   "source": [
    "def factorial(z):\n",
    "    if z==1:\n",
    "        return 1\n",
    "    else:\n",
    "        return z* factorial(z-1)\n",
    "def binomial_coefficient(n,k):\n",
    "    a= (factorial(n)) / (factorial(k) * factorial(n-k))\n",
    "    return a\n",
    "n=int(input(\"enter the number\"))\n",
    "k=int(input('enter the r value:'))\n",
    "print(\"The Factorial of a number is :\",factorial(n))\n",
    "print(\"The binomial coefficient is:\",binomial_coefficient(n,k))"
   ]
  },
  {
   "cell_type": "code",
   "execution_count": null,
   "id": "276e177b-e997-415b-a21a-07be5a3e0bed",
   "metadata": {},
   "outputs": [],
   "source": [
    "#3"
   ]
  },
  {
   "cell_type": "code",
   "execution_count": 7,
   "id": "bc937a1b-ba0d-4979-ba81-78e9c4af5956",
   "metadata": {},
   "outputs": [
    {
     "name": "stdin",
     "output_type": "stream",
     "text": [
      "enter the number of elements: 4\n",
      " 1\n",
      " 3\n",
      " 5\n",
      " 9\n"
     ]
    },
    {
     "name": "stdout",
     "output_type": "stream",
     "text": [
      "[1, 3, 5, 9]\n",
      "Mean of the sample is 4.5 \n",
      "variance of the sample is 8.75 \n",
      "Standard Deviation of the sample is 2.958039891549808 \n"
     ]
    }
   ],
   "source": [
    "import math \n",
    "def mean(data):\n",
    "    n=len(data)\n",
    "    mean=sum(data)/n\n",
    "    return mean\n",
    "def variance(data):\n",
    "    n=len(data)\n",
    "    mean=sum(data)/n\n",
    "    deviations=[(x-mean)**2 for x in data]\n",
    "    variance=sum(deviations)/n\n",
    "    return variance\n",
    "def stdev(data):\n",
    "    var=variance(data)\n",
    "    std_dev=math.sqrt(var)\n",
    "    return std_dev\n",
    "listA=[]\n",
    "n=int(input(\"enter the number of elements:\"))\n",
    "for i in range(0,n):\n",
    "    element=int(input())\n",
    "    listA.append(element)\n",
    "print(listA)\n",
    "data=listA\n",
    "print(\"Mean of the sample is % s \" % (mean(data)))\n",
    "print(\"variance of the sample is % s \" % (variance(data))) \n",
    "print(\"Standard Deviation of the sample is % s \"% (stdev(data)))"
   ]
  },
  {
   "cell_type": "code",
   "execution_count": null,
   "id": "4cc7ffe6-126c-4cdf-a7a4-bb6d6953c102",
   "metadata": {},
   "outputs": [],
   "source": [
    "#4"
   ]
  },
  {
   "cell_type": "code",
   "execution_count": 8,
   "id": "7febc5e5-639a-4e52-9c77-a7e15bd0de8d",
   "metadata": {},
   "outputs": [
    {
     "name": "stdin",
     "output_type": "stream",
     "text": [
      "Enter number: 1221123321\n"
     ]
    },
    {
     "name": "stdout",
     "output_type": "stream",
     "text": [
      "Digit\t occurence\n",
      "1 \t 4\n",
      "2 \t 4\n",
      "3 \t 2\n"
     ]
    }
   ],
   "source": [
    "n=input(\"Enter number:\")\n",
    "num =int(n)\n",
    "print(\"Digit\\t occurence\")\n",
    "for i in range(0,10):\n",
    "    count=0\n",
    "    temp=num\n",
    "    while(temp>0):\n",
    "        a=temp%10\n",
    "        if a==i:\n",
    "            count=count+1\n",
    "        temp=temp//10\n",
    "    if count>0:\n",
    "        print(i,\"\\t\",count)"
   ]
  },
  {
   "cell_type": "code",
   "execution_count": null,
   "id": "d53dc75f-d1eb-46b7-9a7d-ac1a82f08166",
   "metadata": {},
   "outputs": [],
   "source": [
    "#8"
   ]
  },
  {
   "cell_type": "code",
   "execution_count": 9,
   "id": "0e061772-1999-49e6-9f8f-6074f8f25dd1",
   "metadata": {},
   "outputs": [
    {
     "name": "stdin",
     "output_type": "stream",
     "text": [
      "enter the numerator: 7\n",
      "enter the denominator: 3\n"
     ]
    },
    {
     "name": "stdout",
     "output_type": "stream",
     "text": [
      "The result of the division is 2.3333333333333335\n"
     ]
    }
   ],
   "source": [
    "def DivExp(a,b):\n",
    "    if b==0:\n",
    "        raise ValueError(\"Denominator cannot be zero\")\n",
    "    assert a>0,\"numerator must be positive\"\n",
    "    return a/b\n",
    "a=float(input(\"enter the numerator:\"))\n",
    "b=float(input(\"enter the denominator:\"))\n",
    "try:\n",
    "    result=DivExp(a,b)\n",
    "    print(f\"The result of the division is {result}\")\n",
    "except ValueError as e:\n",
    "    print(e)"
   ]
  },
  {
   "cell_type": "code",
   "execution_count": null,
   "id": "b3048b97-daaf-49d1-b5e6-2f96bed0d11e",
   "metadata": {},
   "outputs": [],
   "source": [
    "#9"
   ]
  },
  {
   "cell_type": "code",
   "execution_count": 10,
   "id": "52ee20e1-92cb-4248-bb99-40dbda60e477",
   "metadata": {},
   "outputs": [
    {
     "name": "stdout",
     "output_type": "stream",
     "text": [
      "Enter first complex number\n"
     ]
    },
    {
     "name": "stdin",
     "output_type": "stream",
     "text": [
      "Enter the Real Part:  3\n",
      "Enter the Imaginary Part:  6\n"
     ]
    },
    {
     "name": "stdout",
     "output_type": "stream",
     "text": [
      "First Complex Number: 3+6i\n",
      "Enter second complex number\n"
     ]
    },
    {
     "name": "stdin",
     "output_type": "stream",
     "text": [
      "Enter the Real Part:  7\n",
      "Enter the Imaginary Part:  19\n"
     ]
    },
    {
     "name": "stdout",
     "output_type": "stream",
     "text": [
      "Second Complex Number: 7+19i\n",
      "Sum of two complex numbers is 10+25i\n"
     ]
    }
   ],
   "source": [
    "class Complex ():\n",
    "    def initComplex(self):\n",
    "        self.realPart = int(input(\"Enter the Real Part: \"))\n",
    "        self.imgPart = int(input(\"Enter the Imaginary Part: \"))            \n",
    "\n",
    "    def display(self):\n",
    "        print(self.realPart,\"+\",self.imgPart,\"i\", sep=\"\")\n",
    "    def sum(self, c1, c2):\n",
    "        self.realPart = c1.realPart + c2.realPart\n",
    "        self.imgPart = c1.imgPart + c2.imgPart\n",
    "\n",
    "c1 = Complex()\n",
    "c2 = Complex()\n",
    "c3 = Complex()\n",
    "\n",
    "print(\"Enter first complex number\")\n",
    "c1.initComplex()\n",
    "print(\"First Complex Number: \", end=\"\")\n",
    "c1.display()\n",
    "\n",
    "print(\"Enter second complex number\")\n",
    "c2.initComplex()\n",
    "print(\"Second Complex Number: \", end=\"\")\n",
    "c2.display()\n",
    "\n",
    "print(\"Sum of two complex numbers is \", end=\"\")\n",
    "c3.sum(c1,c2)\n",
    "c3.display()"
   ]
  },
  {
   "cell_type": "code",
   "execution_count": null,
   "id": "a758ff50-d2c6-4e35-bf34-4d116c5541e0",
   "metadata": {},
   "outputs": [],
   "source": [
    "#10"
   ]
  },
  {
   "cell_type": "code",
   "execution_count": 13,
   "id": "a091af95-117d-4a5d-b49a-2f9602de6180",
   "metadata": {},
   "outputs": [
    {
     "name": "stdin",
     "output_type": "stream",
     "text": [
      "Enter name:  Krishna\n",
      "Enter USN:  22333222\n",
      "Enter the marks for subject 1:  63\n",
      "Enter the marks for subject 2:  72\n",
      "Enter the marks for subject 3:  95\n"
     ]
    },
    {
     "name": "stdout",
     "output_type": "stream",
     "text": [
      "Name: Krishna\n",
      "USN: 22333222\n",
      "Marks in subjects: [63, 72, 95]\n",
      "Total marks: 230\n",
      "Percentage: 76.66666666666667\n"
     ]
    }
   ],
   "source": [
    "class Student:\n",
    "    def __init__(self, name, usn):\n",
    "        self.name = name\n",
    "        self.usn = usn\n",
    "        self.subjects = []\n",
    "        self.total = 0\n",
    "        self.percentage = 0\n",
    "\n",
    "    def get_marks(self):\n",
    "        for i in range(3):\n",
    "            subject_marks = int(input(f\"Enter the marks for subject {i+1}: \"))\n",
    "            self.subjects.append(subject_marks)\n",
    "            self.total += subject_marks\n",
    "\n",
    "    def display(self):\n",
    "        self.percentage = self.total / 3\n",
    "        print(\"Name:\", self.name)\n",
    "        print(\"USN:\", self.usn)\n",
    "        print(\"Marks in subjects:\", self.subjects)\n",
    "        print(\"Total marks:\", self.total)\n",
    "        print(\"Percentage:\", self.percentage)\n",
    "\n",
    "\n",
    "# Main program\n",
    "name = input(\"Enter name: \")\n",
    "usn = input(\"Enter USN: \")\n",
    "student = Student(name, usn)  # Use lowercase 'student'\n",
    "student.get_marks()\n",
    "student.display()"
   ]
  },
  {
   "cell_type": "code",
   "execution_count": null,
   "id": "faf48db8-01f1-4533-a203-c43e67611000",
   "metadata": {},
   "outputs": [],
   "source": [
    "#lab 5"
   ]
  },
  {
   "cell_type": "code",
   "execution_count": 15,
   "id": "13e0e978-fc00-4847-ad1a-938ee3936831",
   "metadata": {},
   "outputs": [
    {
     "name": "stdout",
     "output_type": "stream",
     "text": [
      "Python is a popular general-purpose programming language. It is used in machine learning, web development, desktop applications, and many other fields. Fortunately for beginners, Python has a simple, easy-to-use syntax. This makes Python a great language to learn for beginners.\n",
      "1st 10 most frequent words are \n",
      "{'Python': 3, 'a': 3, 'is': 2, 'for': 2, 'popular': 1, 'general-purpose': 1, 'programming': 1, 'language.': 1, 'It': 1, 'used': 1}\n"
     ]
    }
   ],
   "source": [
    "file=open(\"prog5.txt\") #mention location of file \n",
    "text=file.read()\n",
    "print(text)\n",
    "words=text.split()\n",
    "frequency={}\n",
    "for word in words:\n",
    "    if word not in frequency:\n",
    "        frequency[word]=1\n",
    "        \n",
    "    else:\n",
    "        frequency[word]+=1\n",
    "        most_frequency=dict(sorted(frequency.items(),key=lambda elem:elem[1],reverse=True))\n",
    "        out=dict(list(most_frequency.items())[0:10])\n",
    "print(\"1st 10 most frequent words are \\n\"+str(out))"
   ]
  },
  {
   "cell_type": "code",
   "execution_count": null,
   "id": "615b59a8-8d97-4b02-9035-d36768c22029",
   "metadata": {},
   "outputs": [],
   "source": [
    "#Lab 6"
   ]
  },
  {
   "cell_type": "code",
   "execution_count": 18,
   "id": "193d88b9-858e-4155-8244-f51dc6347666",
   "metadata": {},
   "outputs": [],
   "source": [
    "def sort_file_contents(input_file,output_file):\n",
    "    with open(input_file,'r') as file:\n",
    "        contents=file.readlines()\n",
    "        contents=[line.strip() for line in contents]\n",
    "        contents.sort(key=len)\n",
    "        with open(output_file,'w') as file:\n",
    "            for line in contents:\n",
    "                file.write(line+'\\n')\n",
    "sort_file_contents('prog6in.txt','prog6out.txt')"
   ]
  },
  {
   "cell_type": "code",
   "execution_count": null,
   "id": "bf8d2b5a-5aad-431f-ab28-774f54186604",
   "metadata": {},
   "outputs": [],
   "source": [
    "#Lab 7"
   ]
  },
  {
   "cell_type": "code",
   "execution_count": 22,
   "id": "869309c2-b9fe-4a0e-87fd-67e5c9dc4098",
   "metadata": {},
   "outputs": [],
   "source": [
    "import os\n",
    "import zipfile\n",
    "def backup_folder(folder_name):\n",
    "    folder_path=os.path.abspath(folder_name)\n",
    "    backup_file=folder_name+'.zip'\n",
    "    with zipfile.ZipFile(backup_file,'w') as zf:\n",
    "        for root,dirs,files in os.walk(folder_path):\n",
    "            for file in files:\n",
    "                file_path=os.path.join(root,file)\n",
    "                zf.write(file_path)\n",
    "backup_folder('example_folder7')\n",
    "backup_folder('xyz_folder7')"
   ]
  }
 ],
 "metadata": {
  "kernelspec": {
   "display_name": "Python 3 (ipykernel)",
   "language": "python",
   "name": "python3"
  },
  "language_info": {
   "codemirror_mode": {
    "name": "ipython",
    "version": 3
   },
   "file_extension": ".py",
   "mimetype": "text/x-python",
   "name": "python",
   "nbconvert_exporter": "python",
   "pygments_lexer": "ipython3",
   "version": "3.13.2"
  }
 },
 "nbformat": 4,
 "nbformat_minor": 5
}
