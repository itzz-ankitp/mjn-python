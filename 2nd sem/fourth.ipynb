{
 "cells": [
  {
   "cell_type": "code",
   "execution_count": null,
   "id": "839dba1d",
   "metadata": {},
   "outputs": [],
   "source": [
    "from sympy.physics.vector import*\n",
    "from sympy import var,pprint\n",
    "var('x,y,z')\n",
    "v=ReferenceFrame('v')\n",
    "F=v[0]**2*v[1]*[v2]\n",
    "G=gradient(F,v)\n",
    "F=F.subs([{v[0],x},(v[1],y),(v[2],z)])\n",
    "print(\"iven scalar function F=\")\n",
    "display(F)\n",
    "G=G.subs([(v[0],x),(v[1],y),(v[2],z)])\n",
    "print(\"Gradient of F=\")\n",
    "display(G)"
   ]
  }
 ],
 "metadata": {
  "language_info": {
   "name": "python"
  }
 },
 "nbformat": 4,
 "nbformat_minor": 5
}
